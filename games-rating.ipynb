{
 "cells": [
  {
   "cell_type": "code",
   "execution_count": 1,
   "id": "ea36cb25",
   "metadata": {},
   "outputs": [],
   "source": [
    "from platform import python_version"
   ]
  },
  {
   "cell_type": "code",
   "execution_count": 2,
   "id": "d47b859f",
   "metadata": {},
   "outputs": [
    {
     "data": {
      "text/plain": [
       "'3.8.6'"
      ]
     },
     "execution_count": 2,
     "metadata": {},
     "output_type": "execute_result"
    }
   ],
   "source": [
    "python_version()"
   ]
  },
  {
   "cell_type": "code",
   "execution_count": 3,
   "id": "ee46fdb5",
   "metadata": {},
   "outputs": [
    {
     "name": "stdout",
     "output_type": "stream",
     "text": [
      "Requirement already satisfied: psycopg2-binary in c:\\users\\minh phat\\appdata\\local\\programs\\python\\python38\\lib\\site-packages (2.9.5)\n"
     ]
    }
   ],
   "source": [
    "!pip install psycopg2-binary"
   ]
  },
  {
   "cell_type": "code",
   "execution_count": 4,
   "id": "3650c3ec",
   "metadata": {},
   "outputs": [],
   "source": [
    "import psycopg2"
   ]
  },
  {
   "cell_type": "code",
   "execution_count": 5,
   "id": "275c390e",
   "metadata": {},
   "outputs": [],
   "source": [
    "try:\n",
    "    conn = psycopg2.connect(\"host=127.0.0.1 dbname=postgres user=postgres password=243278\") \n",
    "except psycog2.Error as e:\n",
    "    print(\"Error: Could not make connection to the Postgres DB\")\n",
    "    print(e)\n",
    "# Create a connection to Postgres DB"
   ]
  },
  {
   "cell_type": "code",
   "execution_count": 6,
   "id": "ba87ebcf",
   "metadata": {},
   "outputs": [],
   "source": [
    "try:\n",
    "    cur =conn.cursor()\n",
    "except psycopg2.Error as e:\n",
    "    print(\"Error: Could not get cursor to the DB\")\n",
    "    print(e)\n",
    "# Use the connection to get a cursor that can be used to execute queries"
   ]
  },
  {
   "cell_type": "code",
   "execution_count": 7,
   "id": "f00eadbe",
   "metadata": {},
   "outputs": [],
   "source": [
    "conn.set_session(autocommit=True)\n",
    "#auto commit"
   ]
  },
  {
   "cell_type": "code",
   "execution_count": 8,
   "id": "aeb36e06",
   "metadata": {},
   "outputs": [],
   "source": [
    "try:\n",
    "    cur.execute(\"create database mydb\")\n",
    "except pyscopg2.Error as e:\n",
    "    print(e)\n",
    "# Create a database "
   ]
  },
  {
   "cell_type": "code",
   "execution_count": 9,
   "id": "71658837",
   "metadata": {},
   "outputs": [],
   "source": [
    "try:\n",
    "    conn.close()\n",
    "except pyscopg2.Error as e:\n",
    "    print(e)\n",
    "#close connection to dbname=postgres\n",
    "\n",
    "try:\n",
    "    conn = psycopg2.connect(\"host=127.0.0.1 dbname=mydb user=postgres password=243278\")\n",
    "except psycog2.Error as e:\n",
    "    print(\"Error: Could not make connection to the Postgres DB\")\n",
    "    print(e)\n",
    "# Connect to mydb database created before\n",
    "\n",
    "try:\n",
    "    cur =conn.cursor()\n",
    "except psycopg2.Error as e:\n",
    "    print(\"Error: Could not get cursor to the DB\")\n",
    "    print(e)\n",
    "    \n",
    "conn.set_session(autocommit=True)\n",
    "#auto commit"
   ]
  },
  {
   "cell_type": "code",
   "execution_count": 10,
   "id": "d841b775",
   "metadata": {},
   "outputs": [],
   "source": [
    "try:\n",
    "    cur.execute(\"CREATE TABLE IF NOT EXISTS Games(game_id int, game_title varchar, game_genre varchar,\\\n",
    "    rating float, voter_no int, description varchar);\")\n",
    "except psycopg2.Error as e:\n",
    "    print(\"Error: Issues creating table\")\n",
    "    print(e)\n",
    "# Create Games table"
   ]
  },
  {
   "cell_type": "code",
   "execution_count": 11,
   "id": "d26bc3a9",
   "metadata": {},
   "outputs": [],
   "source": [
    "postgres_insert_query = \"\"\" INSERT INTO Games(game_id, game_title, game_genre, rating, voter_no, description) VALUES (%s,%s,%s,%s,%s,%s)\"\"\"\n",
    "record_to_insert = (1, \"The Last of Us\", \"Action\", 9, 601, \"Experience the emotional storytelling and unforgettable characters in The Last of Us, winner of over\")\n",
    "cur.execute(postgres_insert_query, record_to_insert)\n",
    "\n",
    "record_to_insert = (2, \"Red Dead Redemption II\", \"Action\", 9.7, 36441, \"Amidst the decline of the Wild West at the turn of the 20th century, outlaw Arthur Morgan and his ga...\")\n",
    "cur.execute(postgres_insert_query, record_to_insert)\n",
    "\n",
    "#Insert 2 rows of data into mydb"
   ]
  },
  {
   "cell_type": "code",
   "execution_count": 12,
   "id": "ef03f632",
   "metadata": {},
   "outputs": [
    {
     "name": "stdout",
     "output_type": "stream",
     "text": [
      "(1, 'The Last of Us', 'Action', 9.0, 601, 'Experience the emotional storytelling and unforgettable characters in The Last of Us, winner of over')\n",
      "(2, 'Red Dead Redemption II', 'Action', 9.7, 36441, 'Amidst the decline of the Wild West at the turn of the 20th century, outlaw Arthur Morgan and his ga...')\n"
     ]
    }
   ],
   "source": [
    "try:\n",
    "    cur.execute(\"SELECT * FROM Games;\")\n",
    "except psycopg2.Error as e:\n",
    "    print(\"Error: select *\")\n",
    "    print(e)\n",
    "    \n",
    "row = cur.fetchone()\n",
    "while row:\n",
    "    print(row)\n",
    "    row = cur.fetchone()\n",
    "# Validate the data was inserted into mydb"
   ]
  },
  {
   "cell_type": "code",
   "execution_count": 13,
   "id": "e3548ea1",
   "metadata": {},
   "outputs": [],
   "source": [
    "#cur.execute(\"DELETE FROM Games WHERE game_id = 2;\")"
   ]
  },
  {
   "cell_type": "code",
   "execution_count": 14,
   "id": "4eb2bee1",
   "metadata": {},
   "outputs": [],
   "source": [
    "cur.close()\n",
    "conn.close()"
   ]
  },
  {
   "cell_type": "code",
   "execution_count": null,
   "id": "06bd805c",
   "metadata": {},
   "outputs": [],
   "source": []
  }
 ],
 "metadata": {
  "kernelspec": {
   "display_name": "Python 3 (ipykernel)",
   "language": "python",
   "name": "python3"
  },
  "language_info": {
   "codemirror_mode": {
    "name": "ipython",
    "version": 3
   },
   "file_extension": ".py",
   "mimetype": "text/x-python",
   "name": "python",
   "nbconvert_exporter": "python",
   "pygments_lexer": "ipython3",
   "version": "3.8.6"
  }
 },
 "nbformat": 4,
 "nbformat_minor": 5
}
