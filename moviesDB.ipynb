{
 "cells": [
  {
   "cell_type": "code",
   "execution_count": 1,
   "id": "ea36cb25",
   "metadata": {},
   "outputs": [],
   "source": [
    "from platform import python_version"
   ]
  },
  {
   "cell_type": "code",
   "execution_count": 2,
   "id": "d47b859f",
   "metadata": {},
   "outputs": [
    {
     "data": {
      "text/plain": [
       "'3.8.6'"
      ]
     },
     "execution_count": 2,
     "metadata": {},
     "output_type": "execute_result"
    }
   ],
   "source": [
    "python_version()"
   ]
  },
  {
   "cell_type": "code",
   "execution_count": 3,
   "id": "ee46fdb5",
   "metadata": {},
   "outputs": [
    {
     "name": "stdout",
     "output_type": "stream",
     "text": [
      "Active code page: 1252\n",
      "Requirement already satisfied: psycopg2-binary in c:\\users\\minh phat\\appdata\\local\\programs\\python\\python38\\lib\\site-packages (2.9.5)\n",
      "Active code page: 1252\n",
      "Requirement already satisfied: pandas in c:\\users\\minh phat\\appdata\\local\\programs\\python\\python38\\lib\\site-packages (1.5.1)\n",
      "Requirement already satisfied: pytz>=2020.1 in c:\\users\\minh phat\\appdata\\local\\programs\\python\\python38\\lib\\site-packages (from pandas) (2022.5)\n",
      "Requirement already satisfied: python-dateutil>=2.8.1 in c:\\users\\minh phat\\appdata\\local\\programs\\python\\python38\\lib\\site-packages (from pandas) (2.8.2)\n",
      "Requirement already satisfied: numpy>=1.20.3 in c:\\users\\minh phat\\appdata\\local\\programs\\python\\python38\\lib\\site-packages (from pandas) (1.23.4)\n",
      "Requirement already satisfied: six>=1.5 in c:\\users\\minh phat\\appdata\\local\\programs\\python\\python38\\lib\\site-packages (from python-dateutil>=2.8.1->pandas) (1.16.0)\n"
     ]
    }
   ],
   "source": [
    "!pip install psycopg2-binary\n",
    "!pip install pandas"
   ]
  },
  {
   "cell_type": "code",
   "execution_count": 4,
   "id": "3650c3ec",
   "metadata": {},
   "outputs": [],
   "source": [
    "import psycopg2\n",
    "import pandas as pd"
   ]
  },
  {
   "cell_type": "code",
   "execution_count": 5,
   "id": "275c390e",
   "metadata": {},
   "outputs": [],
   "source": [
    "def create_database():\n",
    "    # Create a connection to Postgres DB\n",
    "    conn = psycopg2.connect(\"host=127.0.0.1 dbname=postgres user=postgres password=243278\") \n",
    "    conn.set_session(autocommit=True)\n",
    "    cur =conn.cursor()\n",
    "\n",
    "    # Create database \n",
    "    cur.execute(\"DROP DATABASE IF EXISTS movies;\")\n",
    "    cur.execute(\"CREATE DATABASE movies;\")\n",
    "\n",
    "    conn.close()\n",
    "    \n",
    "    #Connect to movies db\n",
    "    conn = psycopg2.connect(\"host=127.0.0.1 dbname=movies user=postgres password=243278\")\n",
    "    cur =conn.cursor()\n",
    "    conn.set_session(autocommit=True)\n",
    "    \n",
    "    return cur,conn"
   ]
  },
  {
   "cell_type": "code",
   "execution_count": 6,
   "id": "aeb36e06",
   "metadata": {},
   "outputs": [],
   "source": [
    "def create_table(cur,conn):\n",
    "    for query in create_table_queries:\n",
    "        cur.execute(query)\n",
    "        conn.commit()"
   ]
  },
  {
   "cell_type": "code",
   "execution_count": 7,
   "id": "71658837",
   "metadata": {},
   "outputs": [],
   "source": [
    "def drop_table(cur,conn):\n",
    "    for query in drop_table_queries:\n",
    "        cur.execute(query)\n",
    "        conn.commit()"
   ]
  },
  {
   "cell_type": "code",
   "execution_count": 8,
   "id": "d841b775",
   "metadata": {},
   "outputs": [],
   "source": [
    "moviesData = pd.read_csv(\"ml-latest-small/movies.csv\")"
   ]
  },
  {
   "cell_type": "code",
   "execution_count": 9,
   "id": "d26bc3a9",
   "metadata": {},
   "outputs": [
    {
     "data": {
      "text/html": [
       "<div>\n",
       "<style scoped>\n",
       "    .dataframe tbody tr th:only-of-type {\n",
       "        vertical-align: middle;\n",
       "    }\n",
       "\n",
       "    .dataframe tbody tr th {\n",
       "        vertical-align: top;\n",
       "    }\n",
       "\n",
       "    .dataframe thead th {\n",
       "        text-align: right;\n",
       "    }\n",
       "</style>\n",
       "<table border=\"1\" class=\"dataframe\">\n",
       "  <thead>\n",
       "    <tr style=\"text-align: right;\">\n",
       "      <th></th>\n",
       "      <th>movieId</th>\n",
       "      <th>title</th>\n",
       "      <th>genres</th>\n",
       "    </tr>\n",
       "  </thead>\n",
       "  <tbody>\n",
       "    <tr>\n",
       "      <th>0</th>\n",
       "      <td>1</td>\n",
       "      <td>Toy Story (1995)</td>\n",
       "      <td>Adventure|Animation|Children|Comedy|Fantasy</td>\n",
       "    </tr>\n",
       "    <tr>\n",
       "      <th>1</th>\n",
       "      <td>2</td>\n",
       "      <td>Jumanji (1995)</td>\n",
       "      <td>Adventure|Children|Fantasy</td>\n",
       "    </tr>\n",
       "    <tr>\n",
       "      <th>2</th>\n",
       "      <td>3</td>\n",
       "      <td>Grumpier Old Men (1995)</td>\n",
       "      <td>Comedy|Romance</td>\n",
       "    </tr>\n",
       "    <tr>\n",
       "      <th>3</th>\n",
       "      <td>4</td>\n",
       "      <td>Waiting to Exhale (1995)</td>\n",
       "      <td>Comedy|Drama|Romance</td>\n",
       "    </tr>\n",
       "    <tr>\n",
       "      <th>4</th>\n",
       "      <td>5</td>\n",
       "      <td>Father of the Bride Part II (1995)</td>\n",
       "      <td>Comedy</td>\n",
       "    </tr>\n",
       "  </tbody>\n",
       "</table>\n",
       "</div>"
      ],
      "text/plain": [
       "   movieId                               title  \\\n",
       "0        1                    Toy Story (1995)   \n",
       "1        2                      Jumanji (1995)   \n",
       "2        3             Grumpier Old Men (1995)   \n",
       "3        4            Waiting to Exhale (1995)   \n",
       "4        5  Father of the Bride Part II (1995)   \n",
       "\n",
       "                                        genres  \n",
       "0  Adventure|Animation|Children|Comedy|Fantasy  \n",
       "1                   Adventure|Children|Fantasy  \n",
       "2                               Comedy|Romance  \n",
       "3                         Comedy|Drama|Romance  \n",
       "4                                       Comedy  "
      ]
     },
     "execution_count": 9,
     "metadata": {},
     "output_type": "execute_result"
    }
   ],
   "source": [
    "moviesData.head()"
   ]
  },
  {
   "cell_type": "code",
   "execution_count": 10,
   "id": "ef03f632",
   "metadata": {},
   "outputs": [],
   "source": [
    "#moviesData_clean = moviesData[[\"movieId\",\"title\",\"genres\"]]"
   ]
  },
  {
   "cell_type": "code",
   "execution_count": 11,
   "id": "e3548ea1",
   "metadata": {},
   "outputs": [],
   "source": [
    "#moviesData_clean.head()"
   ]
  },
  {
   "cell_type": "code",
   "execution_count": 12,
   "id": "4eb2bee1",
   "metadata": {},
   "outputs": [],
   "source": [
    "ratingsData = pd.read_csv(\"ml-latest-small/ratings.csv\")"
   ]
  },
  {
   "cell_type": "code",
   "execution_count": 13,
   "id": "06bd805c",
   "metadata": {},
   "outputs": [
    {
     "data": {
      "text/html": [
       "<div>\n",
       "<style scoped>\n",
       "    .dataframe tbody tr th:only-of-type {\n",
       "        vertical-align: middle;\n",
       "    }\n",
       "\n",
       "    .dataframe tbody tr th {\n",
       "        vertical-align: top;\n",
       "    }\n",
       "\n",
       "    .dataframe thead th {\n",
       "        text-align: right;\n",
       "    }\n",
       "</style>\n",
       "<table border=\"1\" class=\"dataframe\">\n",
       "  <thead>\n",
       "    <tr style=\"text-align: right;\">\n",
       "      <th></th>\n",
       "      <th>userId</th>\n",
       "      <th>movieId</th>\n",
       "      <th>rating</th>\n",
       "      <th>timestamp</th>\n",
       "    </tr>\n",
       "  </thead>\n",
       "  <tbody>\n",
       "    <tr>\n",
       "      <th>0</th>\n",
       "      <td>1</td>\n",
       "      <td>1</td>\n",
       "      <td>4.0</td>\n",
       "      <td>964982703</td>\n",
       "    </tr>\n",
       "    <tr>\n",
       "      <th>1</th>\n",
       "      <td>1</td>\n",
       "      <td>3</td>\n",
       "      <td>4.0</td>\n",
       "      <td>964981247</td>\n",
       "    </tr>\n",
       "    <tr>\n",
       "      <th>2</th>\n",
       "      <td>1</td>\n",
       "      <td>6</td>\n",
       "      <td>4.0</td>\n",
       "      <td>964982224</td>\n",
       "    </tr>\n",
       "    <tr>\n",
       "      <th>3</th>\n",
       "      <td>1</td>\n",
       "      <td>47</td>\n",
       "      <td>5.0</td>\n",
       "      <td>964983815</td>\n",
       "    </tr>\n",
       "    <tr>\n",
       "      <th>4</th>\n",
       "      <td>1</td>\n",
       "      <td>50</td>\n",
       "      <td>5.0</td>\n",
       "      <td>964982931</td>\n",
       "    </tr>\n",
       "  </tbody>\n",
       "</table>\n",
       "</div>"
      ],
      "text/plain": [
       "   userId  movieId  rating  timestamp\n",
       "0       1        1     4.0  964982703\n",
       "1       1        3     4.0  964981247\n",
       "2       1        6     4.0  964982224\n",
       "3       1       47     5.0  964983815\n",
       "4       1       50     5.0  964982931"
      ]
     },
     "execution_count": 13,
     "metadata": {},
     "output_type": "execute_result"
    }
   ],
   "source": [
    "ratingsData.head()"
   ]
  },
  {
   "cell_type": "code",
   "execution_count": 14,
   "id": "582361e2",
   "metadata": {},
   "outputs": [],
   "source": [
    "#ratingsData.columns"
   ]
  },
  {
   "cell_type": "code",
   "execution_count": 15,
   "id": "190f71a6",
   "metadata": {},
   "outputs": [],
   "source": [
    "#ratingsData = ratingsData.drop([\"timestamp\"], axis=1)"
   ]
  },
  {
   "cell_type": "code",
   "execution_count": 16,
   "id": "72cba110",
   "metadata": {},
   "outputs": [],
   "source": [
    "tagsData = pd.read_csv(\"ml-latest-small/tags.csv\")"
   ]
  },
  {
   "cell_type": "code",
   "execution_count": 17,
   "id": "82f178f1",
   "metadata": {},
   "outputs": [
    {
     "data": {
      "text/html": [
       "<div>\n",
       "<style scoped>\n",
       "    .dataframe tbody tr th:only-of-type {\n",
       "        vertical-align: middle;\n",
       "    }\n",
       "\n",
       "    .dataframe tbody tr th {\n",
       "        vertical-align: top;\n",
       "    }\n",
       "\n",
       "    .dataframe thead th {\n",
       "        text-align: right;\n",
       "    }\n",
       "</style>\n",
       "<table border=\"1\" class=\"dataframe\">\n",
       "  <thead>\n",
       "    <tr style=\"text-align: right;\">\n",
       "      <th></th>\n",
       "      <th>userId</th>\n",
       "      <th>movieId</th>\n",
       "      <th>tag</th>\n",
       "      <th>timestamp</th>\n",
       "    </tr>\n",
       "  </thead>\n",
       "  <tbody>\n",
       "    <tr>\n",
       "      <th>0</th>\n",
       "      <td>2</td>\n",
       "      <td>60756</td>\n",
       "      <td>funny</td>\n",
       "      <td>1445714994</td>\n",
       "    </tr>\n",
       "    <tr>\n",
       "      <th>1</th>\n",
       "      <td>2</td>\n",
       "      <td>60756</td>\n",
       "      <td>Highly quotable</td>\n",
       "      <td>1445714996</td>\n",
       "    </tr>\n",
       "    <tr>\n",
       "      <th>2</th>\n",
       "      <td>2</td>\n",
       "      <td>60756</td>\n",
       "      <td>will ferrell</td>\n",
       "      <td>1445714992</td>\n",
       "    </tr>\n",
       "    <tr>\n",
       "      <th>3</th>\n",
       "      <td>2</td>\n",
       "      <td>89774</td>\n",
       "      <td>Boxing story</td>\n",
       "      <td>1445715207</td>\n",
       "    </tr>\n",
       "    <tr>\n",
       "      <th>4</th>\n",
       "      <td>2</td>\n",
       "      <td>89774</td>\n",
       "      <td>MMA</td>\n",
       "      <td>1445715200</td>\n",
       "    </tr>\n",
       "  </tbody>\n",
       "</table>\n",
       "</div>"
      ],
      "text/plain": [
       "   userId  movieId              tag   timestamp\n",
       "0       2    60756            funny  1445714994\n",
       "1       2    60756  Highly quotable  1445714996\n",
       "2       2    60756     will ferrell  1445714992\n",
       "3       2    89774     Boxing story  1445715207\n",
       "4       2    89774              MMA  1445715200"
      ]
     },
     "execution_count": 17,
     "metadata": {},
     "output_type": "execute_result"
    }
   ],
   "source": [
    "tagsData.head()"
   ]
  },
  {
   "cell_type": "code",
   "execution_count": 18,
   "id": "8dd8b286",
   "metadata": {
    "scrolled": true
   },
   "outputs": [],
   "source": [
    "cur,conn = create_database()"
   ]
  },
  {
   "cell_type": "code",
   "execution_count": 19,
   "id": "9343ae35",
   "metadata": {},
   "outputs": [],
   "source": [
    "movies_data_table_create = (\"\"\"CREATE TABLE IF NOT EXISTS moviesdata(\n",
    "movies_id int PRIMARY KEY,\n",
    "title varchar,\n",
    "genres varchar\n",
    ")\"\"\")"
   ]
  },
  {
   "cell_type": "code",
   "execution_count": 20,
   "id": "76190b29",
   "metadata": {},
   "outputs": [],
   "source": [
    "cur.execute(movies_data_table_create)\n",
    "conn.commit()"
   ]
  },
  {
   "cell_type": "code",
   "execution_count": 21,
   "id": "89a7047f",
   "metadata": {},
   "outputs": [],
   "source": [
    "ratings_data_table_create = (\"\"\"CREATE TABLE IF NOT EXISTS ratingsdata(\n",
    "user_id int,\n",
    "movies_id int,\n",
    "rating float,\n",
    "timestamp varchar,\n",
    "FOREIGN KEY (movies_id) REFERENCES moviesdata(movies_id)\n",
    ")\"\"\")"
   ]
  },
  {
   "cell_type": "code",
   "execution_count": 22,
   "id": "0ebab762",
   "metadata": {},
   "outputs": [],
   "source": [
    "cur.execute(ratings_data_table_create)\n",
    "conn.commit()"
   ]
  },
  {
   "cell_type": "code",
   "execution_count": 25,
   "id": "33dbabf1",
   "metadata": {},
   "outputs": [],
   "source": [
    "tags_data_table_create = (\"\"\"CREATE TABLE IF NOT EXISTS tagsdata(\n",
    "user_id int,\n",
    "movies_id int,\n",
    "tags varchar,\n",
    "timestamp varchar,\n",
    "FOREIGN KEY (movies_id) REFERENCES moviesdata(movies_id)\n",
    ")\"\"\")"
   ]
  },
  {
   "cell_type": "code",
   "execution_count": 26,
   "id": "8caf6e19",
   "metadata": {},
   "outputs": [],
   "source": [
    "cur.execute(tags_data_table_create)\n",
    "conn.commit()"
   ]
  },
  {
   "cell_type": "code",
   "execution_count": 27,
   "id": "787131eb",
   "metadata": {},
   "outputs": [],
   "source": [
    "movies_data_table_insert = (\"\"\"INSERT INTO moviesdata(\n",
    "movies_id,\n",
    "title,\n",
    "genres)\n",
    "VALUES(%s,%s,%s)\n",
    "\"\"\")"
   ]
  },
  {
   "cell_type": "code",
   "execution_count": 28,
   "id": "c645adf9",
   "metadata": {},
   "outputs": [],
   "source": [
    "for i, row in moviesData.iterrows():\n",
    "    #print(row)\n",
    "    cur.execute(movies_data_table_insert, list(row))"
   ]
  },
  {
   "cell_type": "code",
   "execution_count": 29,
   "id": "642447de",
   "metadata": {},
   "outputs": [],
   "source": [
    "ratings_data_table_insert = (\"\"\"INSERT INTO ratingsdata(\n",
    "user_id,\n",
    "movies_id,\n",
    "rating,\n",
    "timestamp)\n",
    "VALUES(%s,%s,%s,%s)\n",
    "\"\"\")"
   ]
  },
  {
   "cell_type": "code",
   "execution_count": 30,
   "id": "f63fb154",
   "metadata": {},
   "outputs": [],
   "source": [
    "for i, row in ratingsData.iterrows():\n",
    "    #print(row)\n",
    "    cur.execute(ratings_data_table_insert, list(row))"
   ]
  },
  {
   "cell_type": "code",
   "execution_count": 33,
   "id": "7579f306",
   "metadata": {},
   "outputs": [],
   "source": [
    "tags_data_table_insert = (\"\"\"INSERT INTO tagsdata(\n",
    "user_id,\n",
    "movies_id,\n",
    "tags,\n",
    "timestamp)\n",
    "VALUES(%s,%s,%s,%s)\n",
    "\"\"\")"
   ]
  },
  {
   "cell_type": "code",
   "execution_count": 34,
   "id": "9e6112c3",
   "metadata": {},
   "outputs": [],
   "source": [
    "for i, row in tagsData.iterrows():\n",
    "    #print(row)\n",
    "    cur.execute(tags_data_table_insert, list(row))"
   ]
  },
  {
   "cell_type": "code",
   "execution_count": 42,
   "id": "3f742e00",
   "metadata": {},
   "outputs": [
    {
     "name": "stdout",
     "output_type": "stream",
     "text": [
      "(318, 'Shawshank Redemption, The (1994)')\n",
      "(333, 'Tommy Boy (1995)')\n",
      "(1704, 'Good Will Hunting (1997)')\n",
      "(3578, 'Gladiator (2000)')\n",
      "(6874, 'Kill Bill: Vol. 1 (2003)')\n",
      "(8798, 'Collateral (2004)')\n",
      "(46970, 'Talladega Nights: The Ballad of Ricky Bobby (2006)')\n",
      "(48516, 'Departed, The (2006)')\n",
      "(58559, 'Dark Knight, The (2008)')\n",
      "(60756, 'Step Brothers (2008)')\n",
      "(68157, 'Inglourious Basterds (2009)')\n",
      "(71535, 'Zombieland (2009)')\n",
      "(74458, 'Shutter Island (2010)')\n",
      "(77455, 'Exit Through the Gift Shop (2010)')\n",
      "(79132, 'Inception (2010)')\n",
      "(80489, 'Town, The (2010)')\n",
      "(80906, 'Inside Job (2010)')\n",
      "(86345, 'Louis C.K.: Hilarious (2010)')\n",
      "(89774, 'Warrior (2011)')\n",
      "(91529, 'Dark Knight Rises, The (2012)')\n",
      "(91658, 'Girl with the Dragon Tattoo, The (2011)')\n",
      "(99114, 'Django Unchained (2012)')\n",
      "(106782, 'Wolf of Wall Street, The (2013)')\n",
      "(109487, 'Interstellar (2014)')\n",
      "(112552, 'Whiplash (2014)')\n",
      "(114060, 'The Drop (2014)')\n",
      "(115713, 'Ex Machina (2015)')\n",
      "(122882, 'Mad Max: Fury Road (2015)')\n",
      "(131724, 'The Jinx: The Life and Deaths of Robert Durst (2015)')\n"
     ]
    }
   ],
   "source": [
    "cur.execute(\"\"\"SELECT t1.movies_id,t1.title\n",
    "FROM moviesdata t1\n",
    "INNER JOIN ratingsdata t2\n",
    "ON t1.movies_id = t2.movies_id\n",
    "WHERE t2.user_id = 2\"\"\")\n",
    "\n",
    "row = cur.fetchone()\n",
    "while row:\n",
    "    print(row)\n",
    "    row = cur.fetchone()\n",
    "\n",
    "#Print movies that user_id= 2 rated"
   ]
  },
  {
   "cell_type": "code",
   "execution_count": null,
   "id": "11005e00",
   "metadata": {},
   "outputs": [],
   "source": []
  }
 ],
 "metadata": {
  "kernelspec": {
   "display_name": "Python 3 (ipykernel)",
   "language": "python",
   "name": "python3"
  },
  "language_info": {
   "codemirror_mode": {
    "name": "ipython",
    "version": 3
   },
   "file_extension": ".py",
   "mimetype": "text/x-python",
   "name": "python",
   "nbconvert_exporter": "python",
   "pygments_lexer": "ipython3",
   "version": "3.8.6"
  }
 },
 "nbformat": 4,
 "nbformat_minor": 5
}
